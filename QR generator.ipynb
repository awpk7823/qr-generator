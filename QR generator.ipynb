{
 "cells": [
  {
   "cell_type": "markdown",
   "id": "9f810462",
   "metadata": {},
   "source": [
    "# QR code generation"
   ]
  },
  {
   "cell_type": "code",
   "execution_count": null,
   "id": "03304b88",
   "metadata": {},
   "outputs": [],
   "source": [
    "# Adding required libraries\n",
    "\n",
    "!pip install pandas\n",
    "!pip install qrcode\n",
    "!pip install pyPdf\n",
    "!pip install PyPDF2"
   ]
  },
  {
   "cell_type": "code",
   "execution_count": null,
   "id": "c5183be0",
   "metadata": {},
   "outputs": [],
   "source": [
    "# Required imports\n",
    "\n",
    "import pandas as pd\n",
    "import qrcode\n",
    "import os\n",
    "import qrcode\n",
    "from PIL import Image\n",
    "from pdf2image import convert_from_path\n",
    "from PIL import Image, ImageDraw, ImageFilter\n",
    "from pdf2image import convert_from_path\n",
    "from PIL import Image"
   ]
  },
  {
   "cell_type": "code",
   "execution_count": null,
   "id": "ac0e5c74",
   "metadata": {},
   "outputs": [],
   "source": [
    "# Required paths\n",
    "\n",
    "rootPath = os.path.realpath(\"C://Users/AwalpreetKaur/Desktop/Python/Trial 2\") #Folder in which all files are present\n",
    "qrCodesFolderPath = os.path.join(rootPath, \"QR codes\")\n",
    "jpgCertificatesFolder = os.path.join(rootPath, \"Certificates jpg\")\n",
    "originalCertificatesPath = os.path.join(rootPath, \"Original certificates\")\n",
    "finalOutputFolder = os.path.join(rootPath, \"Final certificates jpg\")\n",
    "originalCertificatesPath = os.path.join(rootPath, \"Original certificates\")\n",
    "pdfFinalCertificates = os.path.join(rootPath, \"Final certificates pdf\")\n",
    "\n",
    "Logo_link = 'svsu_logo.jpg' #Put logo in the root path only\n",
    "file =('List.xlsx') #Put excel file in root path only\n",
    "\n",
    "#Some imp library path\n",
    "popperPath = \"C://Users/AwalpreetKaur/Downloads/Release-22.12.0-0/poppler-22.12.0/Library/bin\""
   ]
  },
  {
   "cell_type": "code",
   "execution_count": null,
   "id": "1d5da1aa",
   "metadata": {},
   "outputs": [],
   "source": [
    "# Import excel file\n",
    "\n",
    "data = pd.read_excel(file)\n",
    "print(data)"
   ]
  },
  {
   "cell_type": "code",
   "execution_count": null,
   "id": "b88df763",
   "metadata": {},
   "outputs": [],
   "source": [
    "# For each row of the excel sheet, generate qr code\n",
    "\n",
    "for index, row in data.iterrows():\n",
    "    studentData = \"Roll No=\"+str(row[\"Roll No\"])+\", Name=\"+row[\"Name\"]+\", Father's Name=\"+row[\"Father's Name\"]+\", Score=\"+str(row[\"Score\"])\n",
    "    \n",
    "    # Logo to be added on or code\n",
    "    logo = Image.open(Logo_link)\n",
    "    basewidth = 100\n",
    "    wpercent = (basewidth/float(logo.size[0]))\n",
    "    hsize = int((float(logo.size[1])*float(wpercent)))\n",
    "    logo = logo.resize((basewidth, hsize), Image.ANTIALIAS)\n",
    "    QRcode = qrcode.QRCode(\n",
    "        error_correction=qrcode.constants.ERROR_CORRECT_H,\n",
    "        box_size=10,\n",
    "        border=1,\n",
    "    )\n",
    "\n",
    "    # Adding our student data to qr code\n",
    "    QRcode.add_data(studentData)\n",
    "\n",
    "    # Generating QR code\n",
    "    QRcode.make()\n",
    "\n",
    "    # Setting color of QR code\n",
    "    QRcolor = 'Black'\n",
    "    QRimg = QRcode.make_image(fill_color=QRcolor, back_color=\"white\").convert('RGB')\n",
    "\n",
    "    # Setting size of QR code\n",
    "    pos = ((QRimg.size[0] - logo.size[0]) // 2,\n",
    "           (QRimg.size[1] - logo.size[1]) // 2)\n",
    "    QRimg.paste(logo, pos)\n",
    "\n",
    "    # Saving the qr code the required path\n",
    "    outputQrPath = os.path.join(qrCodesFolderPath, str(row[\"Roll No\"])+\".jpg\")\n",
    "    QRimg.save(outputQrPath)\n",
    "    \n",
    "    print(\"Qr code generated for \", outputQrPath)\n",
    "\n",
    "print('FINISH!!!')"
   ]
  },
  {
   "cell_type": "code",
   "execution_count": null,
   "id": "49474ed2",
   "metadata": {},
   "outputs": [],
   "source": [
    "# Convert all certificates to jpg\n",
    "\n",
    "for file in os.listdir(originalCertificatesPath):\n",
    "    i = convert_from_path(os.path.join(originalCertificatesPath, file), poppler_path = popperPath)\n",
    "    i[0].save(os.path.join(jpgCertificatesFolder, file[:-4] +'.jpg'), 'JPEG')\n",
    "    print(\"Saved \", file)\n",
    "    \n",
    "print(\"FINISH!!\")"
   ]
  },
  {
   "cell_type": "code",
   "execution_count": null,
   "id": "f6f6ccb2",
   "metadata": {},
   "outputs": [],
   "source": [
    "# Merge qr code and jpg certificate\n",
    "\n",
    "for certi in os.listdir(jpgCertificatesFolder):\n",
    "    qr = os.path.join(qrCodesFolderPath, certi)\n",
    "    cert = os.path.join(jpgCertificatesFolder, certi)\n",
    "    \n",
    "    certiImg = Image.open(cert)\n",
    "    qrImg = Image.open(qr)\n",
    "    \n",
    "    #Checking size of QR code\n",
    "    width, height = qrImg.size\n",
    "    \n",
    "    # Setting new size\n",
    "    qrImg = qrImg.resize((400, 400))\n",
    "    \n",
    "    # Setting location of qr code on certificate\n",
    "    certiImg.paste(qrImg,(1000, 1000))\n",
    "    \n",
    "    #Final save\n",
    "    certiImg.save(os.path.join(finalOutputFolder, certi), quality=100)\n",
    "    \n",
    "    print(\"Saved \", certi)\n",
    "    \n",
    "print(\"FINISH!!\")"
   ]
  },
  {
   "cell_type": "code",
   "execution_count": null,
   "id": "f94cc5aa",
   "metadata": {},
   "outputs": [],
   "source": [
    "# convert all certificates to pdf\n",
    "\n",
    "for file in os.listdir(finalOutputFolder):\n",
    "    print(\"Saved \", file)\n",
    "    image_1 = Image.open(os.path.join(finalOutputFolder, file))\n",
    "    im_1 = image_1.convert('RGB')\n",
    "    im_1.save(os.path.join(pdfFinalCertificates, file[:-4] +'.pdf'))\n",
    "print(\"FINISH!!\")"
   ]
  }
 ],
 "metadata": {
  "kernelspec": {
   "display_name": "Python 3 (ipykernel)",
   "language": "python",
   "name": "python3"
  },
  "language_info": {
   "codemirror_mode": {
    "name": "ipython",
    "version": 3
   },
   "file_extension": ".py",
   "mimetype": "text/x-python",
   "name": "python",
   "nbconvert_exporter": "python",
   "pygments_lexer": "ipython3",
   "version": "3.9.13"
  }
 },
 "nbformat": 4,
 "nbformat_minor": 5
}
